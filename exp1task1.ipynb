{
 "cells": [
  {
   "cell_type": "markdown",
   "id": "a7ca2461-0181-4d0a-b9f7-e0ef4e764b01",
   "metadata": {},
   "source": [
    "## 一、实验介绍\n",
    "**1. 实验内容**  \n",
    "\n",
    "通过一组给定的数据，画出数据的概率分布、概率密度函数图。\n",
    "\n",
    "**2. 实验要点**  \n",
    "\n",
    "* 理解分布函数，概率密度的定义。\n",
    "* 熟练利用python包画图\n",
    "\n",
    "**3. 实验环境**  \n",
    "* Python \n",
    "* matplotlib \n",
    "* seaborn\n",
    "* numpy"
   ]
  },
  {
   "cell_type": "markdown",
   "id": "3bab345e-c5ea-4c07-8977-4234625b3c4e",
   "metadata": {
    "tags": []
   },
   "source": [
    "做ML时，往往需要先分析手头的数据，比如数据集中某个特征的分布特性。很多时候，拿到的数据分布不那么尽如人意，比如长尾分布，这时就需要做数据变换(比如box-cox变换)，来得到分布特性好的数据(比如正态分布)。\n",
    "为什么很多模型要假设变量服从正太分布？参考[这里](https://www.jianshu.com/p/8f559ad7c4cc)"
   ]
  },
  {
   "cell_type": "markdown",
   "id": "636beb5e-59e7-4c53-8737-cec589892d68",
   "metadata": {},
   "source": [
    "## 二、背景知识\n",
    "**1.累积分布函数**\n",
    "累积分布函数(Cumulative Distribution Function)，又叫分布函数，是概率密度函数的积分，能完整描述一个实随机变量X的概率分布。\n",
    "\n",
    "参考[百度百科](https://baike.baidu.com/item/%E7%B4%AF%E7%A7%AF%E5%88%86%E5%B8%83%E5%87%BD%E6%95%B0/7763383?fr=aladdin)  \n",
    "**2.概率密度函数**\n",
    "是累积分布函数的导数：  \n",
    "![](https://img-blog.csdnimg.cn/20191204174216994.png)  \n",
    "▲概率密度等于一段区间(事件的取值范围)的概率除以该段区间的长度  \n",
    "▲概率密度函数在R上的积分为1  \n",
    "▲几个性质  \n",
    "![](https://img-blog.csdnimg.cn/20191204174326876.png)  \n",
    "![](https://img-blog.csdnimg.cn/20191204174505576.jpg)  \n",
    "![](https://img-blog.csdnimg.cn/20191204174523423.jpg)  \n",
    "**3.核密度估计**  \n",
    "核密度估计是在概率论中用来估计未知的概率密度函数，属于非参数检验方法之一。\n",
    "假设有n个数据a1,a2,…an，互相独立同分布，设其概率密度函数为f(x)，则通过核密度估计出来的f(x)为：  \n",
    "![](https://private.codecogs.com/gif.latex?f%28x%29%3D%5Cfrac%7B1%7D%7Bnh%7D%5Csum_%7Bj%3D1%7D%5E%7Bn%7DK%28%5Cfrac%7Bx-a_%7Bj%7D%7D%7Bh%7D%29)  \n",
    "K()是核函数（非负、积分为1，符合概率密度性质，并且均值为0）\n",
    "h>0为一个平滑参数，称作带宽(bandwidth)，也看到有人叫窗口。\n",
    "核密度函数的原理比较简单：在我们知道某一事物的概率分布的情况下，如果某一个数在观察中出现了，我们可以认为这个数的概率密度很大，和这个数比较近的数的概率密度也会比较大，而那些离这个数远的数的概率密度会比较小。\n",
    "基于这种想法，针对观察中的第一个数，我们可以用K去拟合我们想象中的那个远小近大概率密度。对每一个观察数拟合出的多个概率密度分布函数，取平均。如果某些数是比较重要的，则可以取加权平均。需要说明的一点是，核密度的估计并不是找到真正的分布函数。\n",
    "如果使用高斯核函数(标准正态分布)：  \n",
    "(1) ![](https://private.codecogs.com/gif.latex?K%28x%29%3D%5Cfrac%7B1%7D%7B%5Csqrt%7B2%5Cpi%7D%7D%5Cexp%28-%5Cfrac%7Bx%5E%7B2%7D%7D%7B2%7D%29)  \n",
    "(2) ![](https://private.codecogs.com/gif.latex?f%28x%29%3D%5Cfrac%7B1%7D%7B%5Csqrt%7B2%5Cpi%7Dnh%7D%5Csum_%7Bj%3D1%7D%5E%7Bn%7D%5Cexp%28-%5Cfrac%7B%28x-a_%7Bj%7D%29%5E%7B2%7D%7D%7B2h%5E%7B2%7D%7D%29)  \n",
    "总结一句：核密度估计其实就是通过核函数（如高斯）将每个数据点的数据+带宽当作核函数的参数，得到n个核函数，再线性叠加取平均就形成了核密度的估计函数\n",
    "计算时，给定核函数，只需要一组数据an和带宽h"
   ]
  },
  {
   "cell_type": "markdown",
   "id": "f8300b9d-7871-41c3-83df-1f413d892ae7",
   "metadata": {},
   "source": [
    "## 三、画出一组数据的分布（概率密度函数）\n",
    "\n",
    "**1.数据的频率分布直方图**  \n",
    "\n",
    "1.1 定义可查看[百度百科](https://baike.baidu.com/item/%E9%A2%91%E7%8E%87%E5%88%86%E5%B8%83%E7%9B%B4%E6%96%B9%E5%9B%BE/7436692?fr=aladdin)，具体例子可参考[这里](https://wenku.baidu.com/view/0bf1c169b80d6c85ec3a87c24028915f814d8468.html)  \n",
    "\n",
    "1.2 各组频率之和的值为1，在频率分布直方图中表现为所有矩形的面积之和等于1  \n",
    "\n",
    "**2.画出给定数据的频率分布直方图**  \n",
    "\n",
    " 2.1 找到最大值max 最小值min, 将区间[min, max]等分, 得到几个bin(因为是等分, 所以bin的宽度是一样的)  \n",
    " \n",
    " 2.2 根据点的值大小, 统计落在各个bin中的点的个数, 即频数  \n",
    "    \n",
    " 2.3 计算各个bin的频率=频数/全部数据点的个数  \n",
    "    \n",
    " 2.4 画直方图, 其中bin的高度=频率/bin的宽度  \n"
   ]
  },
  {
   "cell_type": "markdown",
   "id": "6f827fe5-80b0-427c-9ac9-d2fd3f6a25f0",
   "metadata": {
    "tags": []
   },
   "source": [
    "**【练习1】在以下Cell中补充代码，使得运行该代码后输出的文本及图像与当前输出的内容一致。**"
   ]
  },
  {
   "cell_type": "code",
   "execution_count": null,
   "id": "6cb236c9-57a2-4d75-9b3a-11eb51d89a37",
   "metadata": {},
   "outputs": [],
   "source": []
  },
  {
   "cell_type": "markdown",
   "id": "5c4f8992-6382-4973-979c-518dc2bf282b",
   "metadata": {},
   "source": [
    "下面是结果图  \n",
    "![](https://img-blog.csdnimg.cn/20191204183546975.png)  \n",
    "x是一组数据，分成了[0,3), [3,6), [6,9)，带宽h=3  \n",
    "![](https://img-blog.csdnimg.cn/20191204183132320.png?x-oss-process=image/watermark,type_ZmFuZ3poZW5naGVpdGk,shadow_10,text_aHR0cHM6Ly9ibG9nLmNzZG4ubmV0L3lpbmc4NjYxNTc5MQ==,size_16,color_FFFFFF,t_70)  "
   ]
  },
  {
   "cell_type": "markdown",
   "id": "4d524dc3-be57-419b-97ab-05e46b640205",
   "metadata": {
    "tags": []
   },
   "source": [
    "**3.画出给定数据的概率密度函数**  \n",
    "假设核函数使用高斯核函数(公式(1))，则密度函数的估计式子就是(公式(2)).\n",
    "带宽h就是上面频率分布直方图中每个bin的宽度: bin_w\n",
    "那就可以手动算出这个密度函数了(在density_est中实现)\n",
    "此外，seaborn的distplot可以直接画出概率密度函数(kde=True, kde_kws是相关的参数)\n",
    "并且，distplot其实是调用了kdeplot来画图\n",
    "下面是代码："
   ]
  },
  {
   "cell_type": "markdown",
   "id": "4fb2dc75-9741-437a-8296-a8fae845b05c",
   "metadata": {},
   "source": [
    "**【练习2】在以下Cell中补充代码，使得运行该代码后输出的文本及图像与当前输出的内容一致。**"
   ]
  },
  {
   "cell_type": "code",
   "execution_count": null,
   "id": "d00e0b71-b198-4a4e-b593-79ab4baa0ab3",
   "metadata": {
    "tags": []
   },
   "outputs": [],
   "source": [
    "# ==================1. 使用displot\n",
    "\n",
    "\n",
    "\n",
    "\n",
    "# ==================2. 通过手动计算density_est\n",
    "\n",
    "\n",
    "\n",
    "\n",
    "# ==================3. 通过kdeplot\n",
    "\n"
   ]
  },
  {
   "cell_type": "markdown",
   "id": "ddbbb668-ed68-4501-ac40-7f29c23397f2",
   "metadata": {},
   "source": [
    "下面是结果图  \n",
    "![](https://img-blog.csdnimg.cn/20191204182919150.png?x-oss-process=image/watermark,type_ZmFuZ3poZW5naGVpdGk,shadow_10,text_aHR0cHM6Ly9ibG9nLmNzZG4ubmV0L3lpbmc4NjYxNTc5MQ==,size_16,color_FFFFFF,t_70)  \n",
    "可以看出，三种方法画出来的曲线完全重合\n",
    "\n",
    "最后，整理一下，计算给定数据的概率密度函数(概率分布)，需要1数据2核函数3带宽。  "
   ]
  },
  {
   "cell_type": "markdown",
   "id": "192f45cf-53b3-46e0-8d53-50d30272a1bf",
   "metadata": {},
   "source": [
    "# 三、实验任务\n",
    "\n",
    "**1. 编写可绘制指定频率分布直方图的代码（练习1）。**\n",
    "\n",
    "**2. 编写可绘制指定概率密度函数图的代码（练习2）。**\n",
    "\n",
    "**实验任务完成后，可点击File->Download as->HTML(.html)下载HTML版笔记。点击右上角“提交实验笔记”按钮上传实验笔记。**"
   ]
  }
 ],
 "metadata": {
  "kernelspec": {
   "display_name": "Python 3 (ipykernel)",
   "language": "python",
   "name": "python3"
  },
  "language_info": {
   "codemirror_mode": {
    "name": "ipython",
    "version": 3
   },
   "file_extension": ".py",
   "mimetype": "text/x-python",
   "name": "python",
   "nbconvert_exporter": "python",
   "pygments_lexer": "ipython3",
   "version": "3.10.11"
  }
 },
 "nbformat": 4,
 "nbformat_minor": 5
}
